{
 "cells": [
  {
   "cell_type": "code",
   "execution_count": 1,
   "metadata": {},
   "outputs": [],
   "source": [
    "import os, sys, time, re, json\n",
    "import numpy as np\n",
    "import matplotlib.pyplot as plt\n",
    "import PIL.Image\n",
    "from io import BytesIO\n",
    "import pickle\n",
    "import random\n",
    "from tqdm import tqdm"
   ]
  },
  {
   "cell_type": "code",
   "execution_count": 2,
   "metadata": {},
   "outputs": [
    {
     "name": "stderr",
     "output_type": "stream",
     "text": [
      "INFO:__init__:234:Got connection confirm: b'connected to CityPark'\n"
     ]
    },
    {
     "name": "stdout",
     "output_type": "stream",
     "text": [
      "=> Info: Use inet client...\n",
      "=>Info: using ip-port socket\n",
      "Is Listening\n",
      "Client Connected\n",
      "9000\n",
      "Configuration\n",
      "Config file: C:/Program Files/Epic Games/UE_4.27/Engine/Binaries/Win64/unrealcv.ini\n",
      "Port: 9000\n",
      "Width: 640\n",
      "Height: 480\n",
      "FOV: 90.000000\n",
      "EnableInput: true\n",
      "EnableRightEye: false\n",
      "\n"
     ]
    }
   ],
   "source": [
    "from unrealcv import client\n",
    "client.connect()\n",
    "if not client.isconnected():\n",
    "    print('UnrealCV server is not running. Run the game downloaded from http://unrealcv.github.io first.')\n",
    "    sys.exit(-1)\n",
    "print(client.request('vget /unrealcv/status'))"
   ]
  },
  {
   "cell_type": "code",
   "execution_count": 3,
   "metadata": {},
   "outputs": [],
   "source": [
    "def parse_color(color_str):\n",
    "    # Use regular expression to find all numbers\n",
    "    numbers = re.findall(r'\\d+', color_str)\n",
    "\n",
    "    # Convert the list of strings to a list of integers\n",
    "    array = list(map(int, numbers))\n",
    "    return (array[0], array[1], array[2])\n",
    "\n",
    "def parse_rotation(rotation_str):\n",
    "    # Use regular expression to find all numbers including negatives and decimals\n",
    "    numbers = re.findall(r'-?\\d+\\.\\d+', rotation_str)\n",
    "\n",
    "    # Convert the list of strings to a list of floats\n",
    "    array = list(map(float, numbers))\n",
    "    return (array[0], array[1], array[2])"
   ]
  },
  {
   "cell_type": "code",
   "execution_count": 4,
   "metadata": {},
   "outputs": [],
   "source": [
    "# Get the list of all objects in the scene\n",
    "scene_objects = client.request('vget /objects').split(' ')\n",
    "scene_objects.pop()\n",
    "\n",
    "person_colors = set()\n",
    "for obj in scene_objects:\n",
    "    color_str = client.request('vget /object/%s/color' % obj)\n",
    "    color = parse_color(color_str)\n",
    "    if (obj.startswith('SM_Child') or obj.startswith('SM_Couple') or obj.startswith('SM_Man') or obj.startswith('SM_Trio') or obj.startswith('SM_Woman')) and not obj.startswith('SM_Manhole'):\n",
    "        if not color in person_colors:\n",
    "            person_colors.add(color)\n",
    "        else:\n",
    "            print('Duplicate color:', color)\n",
    "            sys.exit(-1)\n",
    "    elif color in person_colors:\n",
    "        print('Duplicate color:', color)\n",
    "        sys.exit(-1)\n",
    "\n",
    "with open('./data/my_set.pkl', 'wb') as file:\n",
    "    pickle.dump(person_colors, file)"
   ]
  },
  {
   "cell_type": "code",
   "execution_count": 103,
   "metadata": {},
   "outputs": [],
   "source": [
    "IMG_WIDTH = 1080\n",
    "IMG_HEIGHT = 720\n",
    "IMG_FOV = 80\n",
    "\n",
    "CAMERAS = len(client.request('vget /cameras').split(' ')) - 1\n",
    "\n",
    "for i in range(CAMERAS):\n",
    "    client.request('vset /camera/%d/size %d %d' % (i, IMG_WIDTH, IMG_HEIGHT))\n",
    "    client.request('vset /camera/%d/fov %d' % (i, IMG_FOV))"
   ]
  },
  {
   "cell_type": "code",
   "execution_count": null,
   "metadata": {},
   "outputs": [],
   "source": [
    "rotation_factor = 400"
   ]
  },
  {
   "cell_type": "code",
   "execution_count": null,
   "metadata": {},
   "outputs": [],
   "source": [
    "i = 0\n",
    "for cam in range(1, CAMERAS): # skip the first camera\n",
    "    # get camera rotation\n",
    "    rot_str = client.request('vget /camera/%d/rotation' % cam)\n",
    "    rot = parse_rotation(rot_str)\n",
    "    rotation_angle = 0\n",
    "    while rotation_angle < 360:\n",
    "        # set camera rotation\n",
    "        client.request('vset /camera/%d/rotation %f %f %f' % (cam, rot[0], rotation_angle, rot[2]))\n",
    "        rotation_angle += rotation_factor\n",
    "        i += 1\n",
    "        # get the object mask\n",
    "        object_mask_bytes = client.request('vget /camera/%d/object_mask png' % cam)\n",
    "        object_mask = PIL.Image.open(BytesIO(object_mask_bytes))\n",
    "        object_mask.save(\"./data/seg/%d.png\" % i)"
   ]
  },
  {
   "cell_type": "code",
   "execution_count": 82,
   "metadata": {},
   "outputs": [
    {
     "name": "stdout",
     "output_type": "stream",
     "text": [
      "(-21.08, -95.091, -0.0)\n",
      "(-18.6, 87.509, 0.0)\n",
      "(-18.8, -179.891, 0.0)\n",
      "(-14.6, -38.0, 0.0)\n",
      "(-22.2, -169.8, 0.0)\n",
      "(-17.199, 58.0, 0.0)\n",
      "(-16.6, 117.0, 0.0)\n",
      "(-19.799, 83.2, 0.0)\n",
      "(-12.2, -83.8, -0.0)\n",
      "(-43.799, 12.4, 0.0)\n",
      "(-22.0, -102.2, 0.0)\n",
      "(-23.8, -123.202, 0.0)\n",
      "(-15.2, 106.199, 0.0)\n",
      "(-25.4, -86.8, 0.0)\n",
      "(-21.4, -152.6, 0.0)\n",
      "(-19.601, -111.196, 0.0)\n",
      "(-12.601, -179.395, 0.0)\n",
      "(-23.001, -160.793, 0.0)\n"
     ]
    }
   ],
   "source": [
    "i = 0\n",
    "for cam in range(1, CAMERAS): # skip the first camera\n",
    "    # get camera rotation\n",
    "    rot_str = client.request('vget /camera/%d/rotation' % cam)\n",
    "    rot = parse_rotation(rot_str)\n",
    "    rotation_angle = 0\n",
    "    while rotation_angle < 360:\n",
    "        # set camera rotation\n",
    "        client.request('vset /camera/%d/rotation %f %f %f' % (cam, rot[0], rotation_angle, rot[2]))\n",
    "        rotation_angle += rotation_factor\n",
    "        i += 1\n",
    "        # get the object mask\n",
    "        object_mask_bytes = client.request('vget /camera/%d/lit png' % cam)\n",
    "        object_mask = PIL.Image.open(BytesIO(object_mask_bytes))\n",
    "        object_mask.save(\"./data/seg/%d_1.png\" % i)\n"
   ]
  },
  {
   "cell_type": "code",
   "execution_count": 1,
   "metadata": {},
   "outputs": [],
   "source": [
    "# Find max_x, max_y, min_x, min_y pixels of a color in an object mask\n",
    "def get_color_box(color, object_mask):\n",
    "    max_x = 0\n",
    "    max_y = 0\n",
    "    min_x = object_mask.shape[1]\n",
    "    min_y = object_mask.shape[0]\n",
    "    is_present = False\n",
    "    for y in range(object_mask.shape[0]):\n",
    "        for x in range(object_mask.shape[1]):\n",
    "            if np.array_equal(object_mask[y][x], color):\n",
    "                is_present = True\n",
    "                if x > max_x:\n",
    "                    max_x = x\n",
    "                if y > max_y:\n",
    "                    max_y = y\n",
    "                if x < min_x:\n",
    "                    min_x = x\n",
    "                if y < min_y:\n",
    "                    min_y = y\n",
    "    return (is_present, min_x, min_y, max_x, max_y)\n",
    "\n",
    "\n",
    "def bounding_boxes(object_mask, color_set):\n",
    "    bounding_boxes = []\n",
    "    for color in color_set:\n",
    "        is_present, min_x, min_y, max_x, max_y = get_color_box(color, object_mask)\n",
    "        if is_present:\n",
    "            # COCO format: [x_min, y_min, width, height]\n",
    "            width = max_x - min_x\n",
    "            height = max_y - min_y\n",
    "            if width < IMG_WIDTH/80 or height < IMG_HEIGHT/80:\n",
    "                continue\n",
    "            bounding_boxes.append([min_x, min_y, width, height])\n",
    "    return bounding_boxes\n",
    "\n",
    "\n",
    "def create_coco_format_json(filepaths, color_set):\n",
    "\n",
    "    images = []\n",
    "    annotations = []\n",
    "    categories = [{ \"id\": 0, \"name\": \"person\"}]\n",
    "    count = 0\n",
    "    \n",
    "    # Iterate over image filepaths\n",
    "    for filepath in tqdm(filepaths):\n",
    "        # Get the file name\n",
    "        file_name = filepath.split(\"/\")[-1]\n",
    "        # Get the image id\n",
    "        file_id = file_name.split(\"_\")[0]\n",
    "\n",
    "        # Open the segmentation image\n",
    "        img = PIL.Image.open(\"./data/seg/\" + file_name)\n",
    "        width, height = img.size\n",
    "        \n",
    "        \n",
    "        # Adding images which has annotations\n",
    "        images.append(\n",
    "            {\n",
    "                \"id\": file_id,\n",
    "                \"width\": width,\n",
    "                \"height\": height,\n",
    "                \"file_name\": file_name\n",
    "            }\n",
    "        )\n",
    "\n",
    "        bounding_boxes = bounding_boxes(img, color_set)\n",
    "\n",
    "        for box in bounding_boxes:\n",
    "            seg = {\n",
    "                'bbox': box,\n",
    "                'image_id': file_id, \n",
    "                'category_id': 0, \n",
    "                'iscrowd': 0, \n",
    "                'id': count\n",
    "            }\n",
    "            annotations.append(seg)\n",
    "            count +=1\n",
    "            \n",
    "    # Create the dataset\n",
    "    dataset_coco_format = {\n",
    "        \"categories\": categories,\n",
    "        \"images\": images,\n",
    "        \"annotations\": annotations,\n",
    "    }\n",
    "    \n",
    "    return dataset_coco_format"
   ]
  }
 ],
 "metadata": {
  "kernelspec": {
   "display_name": "Python 3",
   "language": "python",
   "name": "python3"
  },
  "language_info": {
   "codemirror_mode": {
    "name": "ipython",
    "version": 3
   },
   "file_extension": ".py",
   "mimetype": "text/x-python",
   "name": "python",
   "nbconvert_exporter": "python",
   "pygments_lexer": "ipython3",
   "version": "3.11.0"
  }
 },
 "nbformat": 4,
 "nbformat_minor": 2
}
