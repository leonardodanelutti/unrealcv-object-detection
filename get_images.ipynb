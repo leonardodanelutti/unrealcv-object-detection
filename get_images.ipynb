{
 "cells": [
  {
   "cell_type": "code",
   "execution_count": null,
   "metadata": {},
   "outputs": [],
   "source": [
    "import os, sys, time, re, json\n",
    "import numpy as np\n",
    "import matplotlib.pyplot as plt\n",
    "import PIL.Image\n",
    "from io import BytesIO\n",
    "import random"
   ]
  },
  {
   "cell_type": "code",
   "execution_count": null,
   "metadata": {},
   "outputs": [],
   "source": [
    "from unrealcv import client\n",
    "client.connect()\n",
    "if not client.isconnected():\n",
    "    print('UnrealCV server is not running. Run the game downloaded from http://unrealcv.github.io first.')\n",
    "    sys.exit(-1)\n",
    "print(client.request('vget /unrealcv/status'))"
   ]
  },
  {
   "cell_type": "code",
   "execution_count": null,
   "metadata": {},
   "outputs": [],
   "source": [
    "def parse_color(color_str):\n",
    "    # Use regular expression to find all numbers\n",
    "    numbers = re.findall(r'\\d+', color_str)\n",
    "\n",
    "    # Convert the list of strings to a list of integers\n",
    "    array = list(map(int, numbers))\n",
    "    return (array[0], array[1], array[2])\n",
    "\n",
    "def parse_rotation(rotation_str):\n",
    "    # Use regular expression to find all numbers including negatives and decimals\n",
    "    numbers = re.findall(r'-?\\d+\\.\\d+', rotation_str)\n",
    "\n",
    "    # Convert the list of strings to a list of floats\n",
    "    array = list(map(float, numbers))\n",
    "    return (array[0], array[1], array[2])"
   ]
  },
  {
   "cell_type": "code",
   "execution_count": null,
   "metadata": {},
   "outputs": [],
   "source": [
    "# Get the list of all objects in the scene\n",
    "scene_objects = client.request('vget /objects').split(' ')\n",
    "scene_objects.pop()\n",
    "\n",
    "person_colors = set()\n",
    "for obj in scene_objects:\n",
    "    color_str = client.request('vget /object/%s/color' % obj)\n",
    "    color = parse_color(color_str)\n",
    "    if (obj.startswith('SM_Child') or obj.startswith('SM_Couple') or obj.startswith('SM_Man') or obj.startswith('SM_Trio') or obj.startswith('SM_Woman')) and not obj.startswith('SM_Manhole'):\n",
    "        if not color in person_colors:\n",
    "            person_colors.add(color)\n",
    "        else:\n",
    "            print('Duplicate color:', color)\n",
    "            sys.exit(-1)\n",
    "    elif color in person_colors:\n",
    "        print('Duplicate color:', color)\n",
    "        sys.exit(-1)"
   ]
  },
  {
   "cell_type": "code",
   "execution_count": null,
   "metadata": {},
   "outputs": [],
   "source": [
    "def annotate_persons(object_mask):\n",
    "    \n"
   ]
  },
  {
   "cell_type": "code",
   "execution_count": null,
   "metadata": {},
   "outputs": [],
   "source": [
    "# get the cameras in the scene:\n",
    "cameras = len(client.request('vget /cameras').split(' ')) - 1\n",
    "\n",
    "rotation_factor = 0.8\n",
    "randoms = random.sample(range(100000), 10000)\n",
    "\n",
    "for i in range(1, cameras): # skip the first camera\n",
    "    # get camera rotation\n",
    "    rot_str = client.request('vget /camera/%d/rotation' % i)\n",
    "    rot = parse_rotation(rot_str)\n",
    "    print(rot)\n",
    "    rotation_angle = 0\n",
    "    while rotation_angle < 360:\n",
    "        # set camera rotation\n",
    "        client.request('vset /camera/%d/rotation %f %f %f' % (i, rot[0], rot[1] + rotation_angle, rot[2]))\n",
    "        rotation_angle += rotation_factor\n",
    "        lit_img = client.request('vget /camera/%d/lit png' % i)\n",
    "        img = PIL.Image.open(BytesIO(lit_img))\n",
    "        rand = randoms.pop()\n",
    "        img.save(\"./data/img_%d.png\" % rand)\n",
    "        "
   ]
  }
 ],
 "metadata": {
  "kernelspec": {
   "display_name": "Python 3",
   "language": "python",
   "name": "python3"
  },
  "language_info": {
   "codemirror_mode": {
    "name": "ipython",
    "version": 3
   },
   "file_extension": ".py",
   "mimetype": "text/x-python",
   "name": "python",
   "nbconvert_exporter": "python",
   "pygments_lexer": "ipython3",
   "version": "3.12.3"
  }
 },
 "nbformat": 4,
 "nbformat_minor": 2
}
